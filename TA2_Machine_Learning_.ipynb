{
  "nbformat": 4,
  "nbformat_minor": 0,
  "metadata": {
    "colab": {
      "name": "TA2 - Machine Learning .ipynb",
      "provenance": [],
      "authorship_tag": "ABX9TyPTe+HvV9j8OTafSIRx2NW1",
      "include_colab_link": true
    },
    "kernelspec": {
      "name": "python3",
      "display_name": "Python 3"
    }
  },
  "cells": [
    {
      "cell_type": "markdown",
      "metadata": {
        "id": "view-in-github",
        "colab_type": "text"
      },
      "source": [
        "<a href=\"https://colab.research.google.com/github/AbrahamG20/TA2-MachineLearning/blob/main/TA2_Machine_Learning_.ipynb\" target=\"_parent\"><img src=\"https://colab.research.google.com/assets/colab-badge.svg\" alt=\"Open In Colab\"/></a>"
      ]
    },
    {
      "cell_type": "markdown",
      "metadata": {
        "id": "CIQhxT0ZGP02"
      },
      "source": [
        "#Generative Adversarial Networks"
      ]
    },
    {
      "cell_type": "markdown",
      "metadata": {
        "id": "9QnDlLzfGCSA"
      },
      "source": [
        "## Integrantes\n",
        "\n",
        "*   Alumno 1: <font color='green'> U201712106 - Abraham Guillermo Alvarez Crespo</font><br>\n",
        "*   Alumno 2: <font color='green'> U201716372 - Arian Manuel Yturrizaga Aguirre</font><br>\n",
        "*   Alumno 3: <font color='green'> U201515166 - Diego Leonardo Miranda Salazar</font><br>"
      ]
    },
    {
      "cell_type": "markdown",
      "metadata": {
        "id": "7KYf8UnjGUvO"
      },
      "source": [
        "##Introducción y Motivación de Uso (5 puntos)\n",
        "\n"
      ]
    },
    {
      "cell_type": "markdown",
      "metadata": {
        "id": "7cdRodUuGXgH"
      },
      "source": [
        "##Intuición detrás de la idea (cómo funciona) (8 puntos)\n",
        "\n"
      ]
    },
    {
      "cell_type": "markdown",
      "metadata": {
        "id": "kBRHiF5OGekj"
      },
      "source": [
        "## Que bibliotecas implementan la red y cual es la sugerida (e.g.: sklearn, tensorflow, pytorch, caffe, etc) (2 puntos)\n",
        "\n"
      ]
    },
    {
      "cell_type": "markdown",
      "metadata": {
        "id": "4yH1-PubGg-_"
      },
      "source": [
        "## Al menos 3 ejemplos descriptivos de aplicaciones de la misma, pueden incluir videos de terceros que muestren aplicaciones interesantes (3 puntos)\n",
        "\n"
      ]
    },
    {
      "cell_type": "markdown",
      "metadata": {
        "id": "_Ulrx0aJGlTa"
      },
      "source": [
        "## Conclusiones del trabajo.(2 puntos)\n",
        "\n"
      ]
    },
    {
      "cell_type": "markdown",
      "metadata": {
        "id": "CfFYpgiiGod4"
      },
      "source": [
        "## Referencias: OBLIGATORIO (-3 puntos en caso de no haberlas)"
      ]
    },
    {
      "cell_type": "code",
      "metadata": {
        "id": "eovyBPFeGNG6"
      },
      "source": [
        ""
      ],
      "execution_count": null,
      "outputs": []
    }
  ]
}